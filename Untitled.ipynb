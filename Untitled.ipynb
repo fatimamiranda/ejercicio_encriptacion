{
 "cells": [
  {
   "cell_type": "raw",
   "id": "f1bd662a-723f-491a-9a35-851825bc3b6d",
   "metadata": {},
   "source": [
    "Crear una clase que defina diversos métodos de anonimización\n",
    "y cifrado siguiendo los ejemplos anteriores. Crea un script\n",
    "que haga uso de tu clase."
   ]
  },
  {
   "cell_type": "code",
   "execution_count": 3,
   "id": "a1bbf508-72fc-4dbe-83e7-0bf7c8d74ce1",
   "metadata": {
    "tags": []
   },
   "outputs": [
    {
     "name": "stdout",
     "output_type": "stream",
     "text": [
      "Requirement already satisfied: cryptography in c:\\users\\fatima.miranda\\appdata\\local\\anaconda3\\lib\\site-packages (41.0.3)\n",
      "Requirement already satisfied: python-dotenv in c:\\users\\fatima.miranda\\appdata\\local\\anaconda3\\lib\\site-packages (1.0.1)\n",
      "Requirement already satisfied: cffi>=1.12 in c:\\users\\fatima.miranda\\appdata\\local\\anaconda3\\lib\\site-packages (from cryptography) (1.15.1)\n",
      "Requirement already satisfied: pycparser in c:\\users\\fatima.miranda\\appdata\\local\\anaconda3\\lib\\site-packages (from cffi>=1.12->cryptography) (2.21)\n"
     ]
    },
    {
     "ename": "AttributeError",
     "evalue": "'NoneType' object has no attribute 'encode'",
     "output_type": "error",
     "traceback": [
      "\u001b[1;31m---------------------------------------------------------------------------\u001b[0m",
      "\u001b[1;31mAttributeError\u001b[0m                            Traceback (most recent call last)",
      "Cell \u001b[1;32mIn[3], line 8\u001b[0m\n\u001b[0;32m      5\u001b[0m \u001b[38;5;28;01mfrom\u001b[39;00m \u001b[38;5;21;01mencriptacion\u001b[39;00m \u001b[38;5;28;01mimport\u001b[39;00m Criptografia\n\u001b[0;32m      7\u001b[0m \u001b[38;5;66;03m# Crear una instancia de la clase Criptografia\u001b[39;00m\n\u001b[1;32m----> 8\u001b[0m cripto_instancia \u001b[38;5;241m=\u001b[39m Criptografia()\n\u001b[0;32m     10\u001b[0m \u001b[38;5;66;03m# Ejemplos de cifrado y descifrado simétrico\u001b[39;00m\n\u001b[0;32m     11\u001b[0m texto_original \u001b[38;5;241m=\u001b[39m \u001b[38;5;124m\"\u001b[39m\u001b[38;5;124mTexto confidencial\u001b[39m\u001b[38;5;124m\"\u001b[39m\n",
      "File \u001b[1;32m~\\Videos\\Captures\\curso_IA\\2 semana\\martes_27_02_2024\\ejercicio_encriptacion\\encriptacion.py:19\u001b[0m, in \u001b[0;36mCriptografia.__init__\u001b[1;34m(self)\u001b[0m\n\u001b[0;32m     16\u001b[0m \u001b[38;5;28mself\u001b[39m\u001b[38;5;241m.\u001b[39mclave_publica_asimetrica, \u001b[38;5;28mself\u001b[39m\u001b[38;5;241m.\u001b[39mclave_privada_asimetrica \u001b[38;5;241m=\u001b[39m \u001b[38;5;28mself\u001b[39m\u001b[38;5;241m.\u001b[39mgenerar_par_claves_asimetricas()\n\u001b[0;32m     18\u001b[0m \u001b[38;5;66;03m# Obtener el salt del archivo .env\u001b[39;00m\n\u001b[1;32m---> 19\u001b[0m \u001b[38;5;28mself\u001b[39m\u001b[38;5;241m.\u001b[39msalt \u001b[38;5;241m=\u001b[39m os\u001b[38;5;241m.\u001b[39menviron\u001b[38;5;241m.\u001b[39mget(\u001b[38;5;124m\"\u001b[39m\u001b[38;5;124mSALT\u001b[39m\u001b[38;5;124m\"\u001b[39m)\u001b[38;5;241m.\u001b[39mencode()\n",
      "\u001b[1;31mAttributeError\u001b[0m: 'NoneType' object has no attribute 'encode'"
     ]
    }
   ],
   "source": [
    "# Instalar paquetes si es necesario\n",
    "!pip install cryptography python-dotenv\n",
    "\n",
    "# Importar la clase Criptografia\n",
    "from encriptacion import Criptografia\n",
    "\n",
    "# Crear una instancia de la clase Criptografia\n",
    "cripto_instancia = Criptografia()\n",
    "\n",
    "# Ejemplos de cifrado y descifrado simétrico\n",
    "texto_original = \"Texto confidencial\"\n",
    "texto_cifrado_simetrico = cripto_instancia.cifrar_nombre_simetrico(texto_original)\n",
    "texto_descifrado_simetrico = cripto_instancia.descifrar_nombre_simetrico(texto_cifrado_simetrico)\n",
    "print(\"Texto Original:\", texto_original)\n",
    "print(\"Texto Cifrado Simétrico:\", texto_cifrado_simetrico)\n",
    "print(\"Texto Descifrado Simétrico:\", texto_descifrado_simetrico)\n",
    "\n",
    "# Ejemplos de cifrado y descifrado asimétrico\n",
    "texto_cifrado_asimetrico = cripto_instancia.cifrar_nombre_asimetrico(texto_original)\n",
    "texto_descifrado_asimetrico = cripto_instancia.descifrar_nombre_asimetrico(texto_cifrado_asimetrico)\n",
    "print(\"\\nTexto Cifrado Asimétrico:\", texto_cifrado_asimetrico)\n",
    "print(\"Texto Descifrado Asimétrico:\", texto_descifrado_asimetrico)\n",
    "\n",
    "# Ejemplo de hashing con salt\n",
    "hash_resultado_con_salt = cripto_instancia.cifrar_nombre_con_salt(texto_original)\n",
    "print(\"\\nHash con Salt:\", hash_resultado_con_salt)"
   ]
  }
 ],
 "metadata": {
  "kernelspec": {
   "display_name": "Python 3 (ipykernel)",
   "language": "python",
   "name": "python3"
  },
  "language_info": {
   "codemirror_mode": {
    "name": "ipython",
    "version": 3
   },
   "file_extension": ".py",
   "mimetype": "text/x-python",
   "name": "python",
   "nbconvert_exporter": "python",
   "pygments_lexer": "ipython3",
   "version": "3.11.5"
  }
 },
 "nbformat": 4,
 "nbformat_minor": 5
}
